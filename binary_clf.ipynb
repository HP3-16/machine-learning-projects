{
 "cells": [
  {
   "cell_type": "code",
   "execution_count": 41,
   "metadata": {},
   "outputs": [],
   "source": [
    "import numpy as np\n",
    "from keras.datasets import imdb\n",
    "\n",
    "from keras.layers import Input,Dense,ReLU\n",
    "from keras.models import Model\n",
    "from keras.optimizers import RMSprop\n",
    "from keras.metrics import binary_accuracy"
   ]
  },
  {
   "cell_type": "code",
   "execution_count": 33,
   "metadata": {},
   "outputs": [],
   "source": [
    "#X_tr, y_tr\n",
    "(data,labels),(X_test,y_test) = imdb.load_data(num_words=10000)"
   ]
  },
  {
   "cell_type": "code",
   "execution_count": 14,
   "metadata": {},
   "outputs": [
    {
     "name": "stdout",
     "output_type": "stream",
     "text": [
      " this film was just brilliant casting location scenery story direction everyone's really suited the part they played and you could just imagine being there robert  is an amazing actor and now the same being director  father came from the same scottish island as myself so i loved the fact there was a real connection with this film the witty remarks throughout the film were great it was just brilliant so much that i bought the film as soon as it was released for  and would recommend it to everyone to watch and the fly fishing was amazing really cried at the end it was so sad and you know what they say if you cry at a film it must have been good and this definitely was also  to the two little boy's that played the  of norman and paul they were just brilliant children are often left out of the  list i think because the stars that play them all grown up are such a big profile for the whole film but these children are amazing and should be praised for what they have done don't you think the whole story was so lovely because it was true and was someone's life after all that was shared with us all\n"
     ]
    }
   ],
   "source": [
    "## Decoding words\n",
    "word_index = imdb.get_word_index()\n",
    "index_word = dict([(val,key) for (key,val) in word_index.items()])\n",
    "decoded_index = \" \".join([index_word.get(i-3,'') for i in data[0]])\n",
    "print(decoded_index)"
   ]
  },
  {
   "cell_type": "code",
   "execution_count": 34,
   "metadata": {},
   "outputs": [],
   "source": [
    "def vectorize(seq,dimensions=10000):\n",
    "        result = np.zeros((len(seq),dimensions))\n",
    "        for i,seq in enumerate(seq):\n",
    "                result[i,seq] = 1\n",
    "        return result"
   ]
  },
  {
   "cell_type": "code",
   "execution_count": 35,
   "metadata": {},
   "outputs": [],
   "source": [
    "X_train = vectorize(data)\n",
    "X_test = vectorize(X_test)"
   ]
  },
  {
   "cell_type": "code",
   "execution_count": 39,
   "metadata": {},
   "outputs": [
    {
     "data": {
      "text/plain": [
       "(25000, 10000)"
      ]
     },
     "execution_count": 39,
     "metadata": {},
     "output_type": "execute_result"
    }
   ],
   "source": [
    "X_train.shape"
   ]
  },
  {
   "cell_type": "code",
   "execution_count": 36,
   "metadata": {},
   "outputs": [],
   "source": [
    "y_train = np.asarray(labels).astype('float32')\n",
    "y_test = np.asarray(y_test).astype('float32')"
   ]
  },
  {
   "cell_type": "code",
   "execution_count": 37,
   "metadata": {},
   "outputs": [],
   "source": [
    "input_layer = Input(shape=X_train[0].shape)\n",
    "\n",
    "x = Dense(units=16)(input_layer)\n",
    "x = ReLU()(x)\n",
    "\n",
    "x = Dense(units=16)(input_layer)\n",
    "x = ReLU()(x)\n",
    "\n",
    "output_layer = Dense(units=1, activation='sigmoid')(x)\n",
    "\n",
    "model = Model(input_layer,output_layer)\n"
   ]
  },
  {
   "cell_type": "code",
   "execution_count": 42,
   "metadata": {},
   "outputs": [],
   "source": [
    "opt = RMSprop(learning_rate=0.0001)\n",
    "model.compile(optimizer=opt,\n",
    "              loss = 'binary_crossentropy',\n",
    "              metrics=[binary_accuracy])"
   ]
  },
  {
   "cell_type": "code",
   "execution_count": 43,
   "metadata": {},
   "outputs": [
    {
     "name": "stdout",
     "output_type": "stream",
     "text": [
      "Epoch 1/20\n",
      "79/79 [==============================] - 3s 18ms/step - loss: 0.6431 - binary_accuracy: 0.6622 - val_loss: 0.5902 - val_binary_accuracy: 0.7564\n",
      "Epoch 2/20\n",
      "79/79 [==============================] - 1s 13ms/step - loss: 0.5439 - binary_accuracy: 0.8144 - val_loss: 0.5067 - val_binary_accuracy: 0.8348\n",
      "Epoch 3/20\n",
      "79/79 [==============================] - 1s 12ms/step - loss: 0.4677 - binary_accuracy: 0.8597 - val_loss: 0.4493 - val_binary_accuracy: 0.8618\n",
      "Epoch 4/20\n",
      "79/79 [==============================] - 1s 12ms/step - loss: 0.4125 - binary_accuracy: 0.8789 - val_loss: 0.4082 - val_binary_accuracy: 0.8692\n",
      "Epoch 5/20\n",
      "79/79 [==============================] - 1s 14ms/step - loss: 0.3715 - binary_accuracy: 0.8899 - val_loss: 0.3778 - val_binary_accuracy: 0.8794\n",
      "Epoch 6/20\n",
      "79/79 [==============================] - 1s 12ms/step - loss: 0.3398 - binary_accuracy: 0.8987 - val_loss: 0.3547 - val_binary_accuracy: 0.8818\n",
      "Epoch 7/20\n",
      "79/79 [==============================] - 1s 12ms/step - loss: 0.3146 - binary_accuracy: 0.9054 - val_loss: 0.3368 - val_binary_accuracy: 0.8842\n",
      "Epoch 8/20\n",
      "79/79 [==============================] - 1s 12ms/step - loss: 0.2938 - binary_accuracy: 0.9102 - val_loss: 0.3229 - val_binary_accuracy: 0.8854\n",
      "Epoch 9/20\n",
      "79/79 [==============================] - 1s 13ms/step - loss: 0.2766 - binary_accuracy: 0.9155 - val_loss: 0.3117 - val_binary_accuracy: 0.8874\n",
      "Epoch 10/20\n",
      "79/79 [==============================] - 1s 12ms/step - loss: 0.2619 - binary_accuracy: 0.9191 - val_loss: 0.3027 - val_binary_accuracy: 0.8888\n",
      "Epoch 11/20\n",
      "79/79 [==============================] - 1s 13ms/step - loss: 0.2491 - binary_accuracy: 0.9233 - val_loss: 0.2952 - val_binary_accuracy: 0.8886\n",
      "Epoch 12/20\n",
      "79/79 [==============================] - 1s 12ms/step - loss: 0.2380 - binary_accuracy: 0.9265 - val_loss: 0.2892 - val_binary_accuracy: 0.8904\n",
      "Epoch 13/20\n",
      "79/79 [==============================] - 1s 12ms/step - loss: 0.2283 - binary_accuracy: 0.9284 - val_loss: 0.2845 - val_binary_accuracy: 0.8928\n",
      "Epoch 14/20\n",
      "79/79 [==============================] - 1s 12ms/step - loss: 0.2197 - binary_accuracy: 0.9311 - val_loss: 0.2820 - val_binary_accuracy: 0.8920\n",
      "Epoch 15/20\n",
      "79/79 [==============================] - 1s 12ms/step - loss: 0.2118 - binary_accuracy: 0.9331 - val_loss: 0.2772 - val_binary_accuracy: 0.8948\n",
      "Epoch 16/20\n",
      "79/79 [==============================] - 1s 14ms/step - loss: 0.2045 - binary_accuracy: 0.9356 - val_loss: 0.2745 - val_binary_accuracy: 0.8952\n",
      "Epoch 17/20\n",
      "79/79 [==============================] - 1s 12ms/step - loss: 0.1981 - binary_accuracy: 0.9377 - val_loss: 0.2725 - val_binary_accuracy: 0.8950\n",
      "Epoch 18/20\n",
      "79/79 [==============================] - 1s 12ms/step - loss: 0.1918 - binary_accuracy: 0.9393 - val_loss: 0.2709 - val_binary_accuracy: 0.8956\n",
      "Epoch 19/20\n",
      "79/79 [==============================] - 1s 13ms/step - loss: 0.1863 - binary_accuracy: 0.9409 - val_loss: 0.2696 - val_binary_accuracy: 0.8942\n",
      "Epoch 20/20\n",
      "79/79 [==============================] - 1s 12ms/step - loss: 0.1810 - binary_accuracy: 0.9430 - val_loss: 0.2689 - val_binary_accuracy: 0.8950\n"
     ]
    }
   ],
   "source": [
    "history = model.fit(X_train,y_train,\n",
    "                    epochs=20,\n",
    "                    batch_size=256,\n",
    "                    validation_split=0.2)"
   ]
  },
  {
   "cell_type": "code",
   "execution_count": 45,
   "metadata": {},
   "outputs": [
    {
     "name": "stdout",
     "output_type": "stream",
     "text": [
      "782/782 [==============================] - 4s 5ms/step - loss: 0.2807 - binary_accuracy: 0.8892\n"
     ]
    }
   ],
   "source": [
    "loss,acc = model.evaluate(X_test,y_test)"
   ]
  },
  {
   "cell_type": "code",
   "execution_count": 46,
   "metadata": {},
   "outputs": [
    {
     "name": "stdout",
     "output_type": "stream",
     "text": [
      "The accuracy on test data is 88.92%\n"
     ]
    }
   ],
   "source": [
    "print(\"The accuracy on test data is {}%\".format(round(acc*100,2)))"
   ]
  },
  {
   "cell_type": "code",
   "execution_count": null,
   "metadata": {},
   "outputs": [],
   "source": []
  }
 ],
 "metadata": {
  "kernelspec": {
   "display_name": "Python 3",
   "language": "python",
   "name": "python3"
  },
  "language_info": {
   "codemirror_mode": {
    "name": "ipython",
    "version": 3
   },
   "file_extension": ".py",
   "mimetype": "text/x-python",
   "name": "python",
   "nbconvert_exporter": "python",
   "pygments_lexer": "ipython3",
   "version": "3.10.0"
  },
  "orig_nbformat": 4
 },
 "nbformat": 4,
 "nbformat_minor": 2
}
