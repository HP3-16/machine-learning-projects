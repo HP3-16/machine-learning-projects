{
 "cells": [
  {
   "cell_type": "code",
   "execution_count": 80,
   "metadata": {},
   "outputs": [],
   "source": [
    "import numpy as np\n",
    "import pandas as pd\n",
    "import opendatasets as od\n",
    "from tensorflow import keras\n",
    "from keras.models import Model\n",
    "from keras.layers import Input,Dense\n",
    "import matplotlib.pyplot as plt\n",
    "from sklearn.model_selection import train_test_split\n",
    "from sklearn.preprocessing import StandardScaler\n"
   ]
  },
  {
   "cell_type": "code",
   "execution_count": 2,
   "metadata": {},
   "outputs": [
    {
     "name": "stdout",
     "output_type": "stream",
     "text": [
      "Please provide your Kaggle credentials to download this dataset. Learn more: http://bit.ly/kaggle-creds\n",
      "Your Kaggle username:Your Kaggle username:Your Kaggle username:Your Kaggle username:Your Kaggle Key:Downloading boston-house-prices.zip to .\\boston-house-prices\n"
     ]
    },
    {
     "name": "stderr",
     "output_type": "stream",
     "text": [
      "100%|██████████| 12.8k/12.8k [00:00<00:00, 191kB/s]"
     ]
    },
    {
     "name": "stdout",
     "output_type": "stream",
     "text": [
      "\n"
     ]
    },
    {
     "name": "stderr",
     "output_type": "stream",
     "text": [
      "\n"
     ]
    }
   ],
   "source": [
    "od.download(\"https://www.kaggle.com/datasets/vikrishnan/boston-house-prices\")"
   ]
  },
  {
   "cell_type": "code",
   "execution_count": 28,
   "metadata": {},
   "outputs": [
    {
     "data": {
      "text/html": [
       "<div>\n",
       "<style scoped>\n",
       "    .dataframe tbody tr th:only-of-type {\n",
       "        vertical-align: middle;\n",
       "    }\n",
       "\n",
       "    .dataframe tbody tr th {\n",
       "        vertical-align: top;\n",
       "    }\n",
       "\n",
       "    .dataframe thead th {\n",
       "        text-align: right;\n",
       "    }\n",
       "</style>\n",
       "<table border=\"1\" class=\"dataframe\">\n",
       "  <thead>\n",
       "    <tr style=\"text-align: right;\">\n",
       "      <th></th>\n",
       "      <th>CRIM</th>\n",
       "      <th>ZN</th>\n",
       "      <th>INDUS</th>\n",
       "      <th>CHAS</th>\n",
       "      <th>NOX</th>\n",
       "      <th>RM</th>\n",
       "      <th>AGE</th>\n",
       "      <th>DIS</th>\n",
       "      <th>RAD</th>\n",
       "      <th>TAX</th>\n",
       "      <th>PTRATIO</th>\n",
       "      <th>B</th>\n",
       "      <th>LSTAT</th>\n",
       "      <th>MEDV</th>\n",
       "    </tr>\n",
       "  </thead>\n",
       "  <tbody>\n",
       "    <tr>\n",
       "      <th>0</th>\n",
       "      <td>0.00632</td>\n",
       "      <td>18.0</td>\n",
       "      <td>2.31</td>\n",
       "      <td>0</td>\n",
       "      <td>0.538</td>\n",
       "      <td>6.575</td>\n",
       "      <td>65.2</td>\n",
       "      <td>4.0900</td>\n",
       "      <td>1</td>\n",
       "      <td>296.0</td>\n",
       "      <td>15.3</td>\n",
       "      <td>396.90</td>\n",
       "      <td>4.98</td>\n",
       "      <td>24.0</td>\n",
       "    </tr>\n",
       "    <tr>\n",
       "      <th>1</th>\n",
       "      <td>0.02731</td>\n",
       "      <td>0.0</td>\n",
       "      <td>7.07</td>\n",
       "      <td>0</td>\n",
       "      <td>0.469</td>\n",
       "      <td>6.421</td>\n",
       "      <td>78.9</td>\n",
       "      <td>4.9671</td>\n",
       "      <td>2</td>\n",
       "      <td>242.0</td>\n",
       "      <td>17.8</td>\n",
       "      <td>396.90</td>\n",
       "      <td>9.14</td>\n",
       "      <td>21.6</td>\n",
       "    </tr>\n",
       "    <tr>\n",
       "      <th>2</th>\n",
       "      <td>0.02729</td>\n",
       "      <td>0.0</td>\n",
       "      <td>7.07</td>\n",
       "      <td>0</td>\n",
       "      <td>0.469</td>\n",
       "      <td>7.185</td>\n",
       "      <td>61.1</td>\n",
       "      <td>4.9671</td>\n",
       "      <td>2</td>\n",
       "      <td>242.0</td>\n",
       "      <td>17.8</td>\n",
       "      <td>392.83</td>\n",
       "      <td>4.03</td>\n",
       "      <td>34.7</td>\n",
       "    </tr>\n",
       "    <tr>\n",
       "      <th>3</th>\n",
       "      <td>0.03237</td>\n",
       "      <td>0.0</td>\n",
       "      <td>2.18</td>\n",
       "      <td>0</td>\n",
       "      <td>0.458</td>\n",
       "      <td>6.998</td>\n",
       "      <td>45.8</td>\n",
       "      <td>6.0622</td>\n",
       "      <td>3</td>\n",
       "      <td>222.0</td>\n",
       "      <td>18.7</td>\n",
       "      <td>394.63</td>\n",
       "      <td>2.94</td>\n",
       "      <td>33.4</td>\n",
       "    </tr>\n",
       "    <tr>\n",
       "      <th>4</th>\n",
       "      <td>0.06905</td>\n",
       "      <td>0.0</td>\n",
       "      <td>2.18</td>\n",
       "      <td>0</td>\n",
       "      <td>0.458</td>\n",
       "      <td>7.147</td>\n",
       "      <td>54.2</td>\n",
       "      <td>6.0622</td>\n",
       "      <td>3</td>\n",
       "      <td>222.0</td>\n",
       "      <td>18.7</td>\n",
       "      <td>396.90</td>\n",
       "      <td>5.33</td>\n",
       "      <td>36.2</td>\n",
       "    </tr>\n",
       "  </tbody>\n",
       "</table>\n",
       "</div>"
      ],
      "text/plain": [
       "      CRIM    ZN  INDUS  CHAS    NOX     RM   AGE     DIS  RAD    TAX  \\\n",
       "0  0.00632  18.0   2.31     0  0.538  6.575  65.2  4.0900    1  296.0   \n",
       "1  0.02731   0.0   7.07     0  0.469  6.421  78.9  4.9671    2  242.0   \n",
       "2  0.02729   0.0   7.07     0  0.469  7.185  61.1  4.9671    2  242.0   \n",
       "3  0.03237   0.0   2.18     0  0.458  6.998  45.8  6.0622    3  222.0   \n",
       "4  0.06905   0.0   2.18     0  0.458  7.147  54.2  6.0622    3  222.0   \n",
       "\n",
       "   PTRATIO       B  LSTAT  MEDV  \n",
       "0     15.3  396.90   4.98  24.0  \n",
       "1     17.8  396.90   9.14  21.6  \n",
       "2     17.8  392.83   4.03  34.7  \n",
       "3     18.7  394.63   2.94  33.4  \n",
       "4     18.7  396.90   5.33  36.2  "
      ]
     },
     "execution_count": 28,
     "metadata": {},
     "output_type": "execute_result"
    }
   ],
   "source": [
    "df = pd.read_csv('./boston-house-prices/housing.csv',names=[\"CRIM\",\"ZN\",\"INDUS\",\"CHAS\",\"NOX\",\"RM\",\"AGE\",\"DIS\",\"RAD\",\"TAX\",\"PTRATIO\",\"B\",\"LSTAT\",\"MEDV\"],delimiter=r\"\\s+\",header=None)  \n",
    "df.head()"
   ]
  },
  {
   "cell_type": "code",
   "execution_count": 30,
   "metadata": {},
   "outputs": [],
   "source": [
    "y = df.pop('MEDV')\n",
    "X = df"
   ]
  },
  {
   "cell_type": "code",
   "execution_count": 31,
   "metadata": {},
   "outputs": [],
   "source": [
    "X_train,X_test,y_train,y_test = train_test_split(X,y,test_size=0.2)"
   ]
  },
  {
   "cell_type": "code",
   "execution_count": 32,
   "metadata": {},
   "outputs": [
    {
     "data": {
      "text/plain": [
       "(404, 13)"
      ]
     },
     "execution_count": 32,
     "metadata": {},
     "output_type": "execute_result"
    }
   ],
   "source": [
    "X_train.shape"
   ]
  },
  {
   "cell_type": "code",
   "execution_count": 22,
   "metadata": {},
   "outputs": [],
   "source": [
    "mean = X_train.mean(axis=0)\n",
    "std = X_train.std(axis=0)\n",
    "X_train = X_train-mean\n",
    "X_train = X_train/std"
   ]
  },
  {
   "cell_type": "code",
   "execution_count": 39,
   "metadata": {},
   "outputs": [],
   "source": [
    "def build():\n",
    "    \"\"\" \n",
    "    Builds The Model\n",
    "    \"\"\"\n",
    "    input_layer = Input(shape=(13,))\n",
    "    x = Dense(units=64,activation='relu')(input_layer)\n",
    "    x = Dense(units=64,activation='relu')(x)\n",
    "    output_layer = Dense(units=1)(x)\n",
    "    model = Model(input_layer,output_layer)\n",
    "\n",
    "    model.compile(optimizer='rmsprop',loss='mse',metrics=['mae'])\n",
    "\n",
    "    return model\n",
    "\n"
   ]
  },
  {
   "cell_type": "code",
   "execution_count": 54,
   "metadata": {},
   "outputs": [
    {
     "name": "stdout",
     "output_type": "stream",
     "text": [
      "processing fold 0\n",
      "processing fold 1\n",
      "processing fold 2\n",
      "processing fold 3\n"
     ]
    }
   ],
   "source": [
    "#k-fold CV\n",
    "k = 4\n",
    "total_samples = len(X_train) // k\n",
    "num_epochs = 200\n",
    "scores = [] #stores the MAE scores\n",
    "\n",
    "for i in range(k):\n",
    "    print(\"processing fold {}\".format(i))\n",
    "    val_data = X_train[i*total_samples:(i+1)*total_samples]\n",
    "    val_target = y_train[i*total_samples:(i+1)*total_samples]\n",
    "\n",
    "    data_ = np.concatenate([X_train[:i*total_samples],X_train[(i+1)*total_samples:]],axis=0)\n",
    "    target_ = np.concatenate([y_train[:i*total_samples],y_train[(i+1)*total_samples:]],axis=0)\n",
    "\n",
    "    model = build()\n",
    "    history = model.fit(data_,target_,\n",
    "              epochs = num_epochs,\n",
    "              validation_data=(val_data,val_target),\n",
    "              verbose=0,\n",
    "              batch_size=1)\n"
   ]
  },
  {
   "cell_type": "code",
   "execution_count": 56,
   "metadata": {},
   "outputs": [],
   "source": [
    "mae_history = history.history['val_mae']\n",
    "scores.append(mae_history)"
   ]
  },
  {
   "cell_type": "code",
   "execution_count": 61,
   "metadata": {},
   "outputs": [],
   "source": [
    "avg_mae = [np.mean([x[i] for x in scores]) for i in range(num_epochs)]"
   ]
  },
  {
   "cell_type": "code",
   "execution_count": 65,
   "metadata": {},
   "outputs": [
    {
     "data": {
      "image/png": "[encoded data removed]",
      "text/plain": [
       "<Figure size 300x300 with 1 Axes>"
      ]
     },
     "metadata": {},
     "output_type": "display_data"
    }
   ],
   "source": [
    "mae_range = range(1,1+len(avg_mae))\n",
    "plt.figure(figsize=(3,3))\n",
    "plt.plot(mae_range,avg_mae)\n",
    "plt.xlabel(\"#Epochs\")\n",
    "plt.ylabel(\"Val MAE\")\n",
    "plt.show()"
   ]
  },
  {
   "cell_type": "code",
   "execution_count": 82,
   "metadata": {},
   "outputs": [],
   "source": [
    "def SmoothCurves(points,factor=0.9):\n",
    "        smoothed_points = []\n",
    "        for point in points:\n",
    "            if smoothed_points:\n",
    "                previous = smoothed_points[-1]\n",
    "                smoothed_points.append(previous * factor + point * (1 - factor))\n",
    "            else:\n",
    "                smoothed_points.append(point)\n",
    "        \n",
    "        return smoothed_points\n"
   ]
  },
  {
   "cell_type": "code",
   "execution_count": 88,
   "metadata": {},
   "outputs": [
    {
     "data": {
      "image/png": "[encoded data removed]",
      "text/plain": [
       "<Figure size 640x480 with 1 Axes>"
      ]
     },
     "metadata": {},
     "output_type": "display_data"
    }
   ],
   "source": [
    "smth_mae_history = SmoothCurves(avg_mae[30:])\n",
    "mae_range = range(1,1+len(smth_mae_history))\n",
    "plt.plot(mae_range,smth_mae_history)\n",
    "plt.xlabel(\"#Epochs\")\n",
    "plt.ylabel(\"Val MAE\")\n",
    "plt.show()"
   ]
  },
  {
   "cell_type": "code",
   "execution_count": 89,
   "metadata": {},
   "outputs": [
    {
     "name": "stdout",
     "output_type": "stream",
     "text": [
      "Epoch 1/80\n",
      "26/26 [==============================] - 1s 8ms/step - loss: 228.5411 - mae: 11.4709\n",
      "Epoch 2/80\n",
      "26/26 [==============================] - 0s 7ms/step - loss: 165.1667 - mae: 10.2592\n",
      "Epoch 3/80\n",
      "26/26 [==============================] - 0s 8ms/step - loss: 136.0715 - mae: 9.2251\n",
      "Epoch 4/80\n",
      "26/26 [==============================] - 0s 7ms/step - loss: 107.8543 - mae: 7.8885\n",
      "Epoch 5/80\n",
      "26/26 [==============================] - 0s 8ms/step - loss: 119.7768 - mae: 8.2141\n",
      "Epoch 6/80\n",
      "26/26 [==============================] - 0s 9ms/step - loss: 126.4725 - mae: 8.8054\n",
      "Epoch 7/80\n",
      "26/26 [==============================] - 0s 8ms/step - loss: 94.3381 - mae: 7.1489\n",
      "Epoch 8/80\n",
      "26/26 [==============================] - 0s 7ms/step - loss: 109.1391 - mae: 8.2126\n",
      "Epoch 9/80\n",
      "26/26 [==============================] - 0s 11ms/step - loss: 112.5521 - mae: 8.2265\n",
      "Epoch 10/80\n",
      "26/26 [==============================] - 0s 6ms/step - loss: 108.8191 - mae: 7.9634\n",
      "Epoch 11/80\n",
      "26/26 [==============================] - 0s 7ms/step - loss: 88.3178 - mae: 6.7887\n",
      "Epoch 12/80\n",
      "26/26 [==============================] - 0s 8ms/step - loss: 86.9832 - mae: 6.9614\n",
      "Epoch 13/80\n",
      "26/26 [==============================] - 0s 7ms/step - loss: 110.5705 - mae: 8.2324\n",
      "Epoch 14/80\n",
      "26/26 [==============================] - 0s 7ms/step - loss: 77.6253 - mae: 6.5495\n",
      "Epoch 15/80\n",
      "26/26 [==============================] - 0s 8ms/step - loss: 94.3270 - mae: 7.6694\n",
      "Epoch 16/80\n",
      "26/26 [==============================] - 0s 7ms/step - loss: 82.9891 - mae: 6.8713\n",
      "Epoch 17/80\n",
      "26/26 [==============================] - 0s 7ms/step - loss: 73.1644 - mae: 6.5748\n",
      "Epoch 18/80\n",
      "26/26 [==============================] - 0s 7ms/step - loss: 93.3633 - mae: 7.6128\n",
      "Epoch 19/80\n",
      "26/26 [==============================] - 0s 7ms/step - loss: 62.7348 - mae: 5.8780\n",
      "Epoch 20/80\n",
      "26/26 [==============================] - 0s 7ms/step - loss: 85.1784 - mae: 6.9007\n",
      "Epoch 21/80\n",
      "26/26 [==============================] - 0s 12ms/step - loss: 72.9073 - mae: 6.6169\n",
      "Epoch 22/80\n",
      "26/26 [==============================] - 0s 6ms/step - loss: 88.8661 - mae: 7.2637\n",
      "Epoch 23/80\n",
      "26/26 [==============================] - 0s 8ms/step - loss: 67.5370 - mae: 6.0071\n",
      "Epoch 24/80\n",
      "26/26 [==============================] - 0s 7ms/step - loss: 68.2838 - mae: 6.3543\n",
      "Epoch 25/80\n",
      "26/26 [==============================] - 0s 7ms/step - loss: 70.3189 - mae: 6.2463\n",
      "Epoch 26/80\n",
      "26/26 [==============================] - 0s 7ms/step - loss: 77.2896 - mae: 7.0702\n",
      "Epoch 27/80\n",
      "26/26 [==============================] - 0s 8ms/step - loss: 57.4819 - mae: 5.7846\n",
      "Epoch 28/80\n",
      "26/26 [==============================] - 0s 7ms/step - loss: 63.4591 - mae: 6.1466\n",
      "Epoch 29/80\n",
      "26/26 [==============================] - 0s 7ms/step - loss: 73.2086 - mae: 6.8052\n",
      "Epoch 30/80\n",
      "26/26 [==============================] - 0s 7ms/step - loss: 65.9503 - mae: 5.9273\n",
      "Epoch 31/80\n",
      "26/26 [==============================] - 0s 7ms/step - loss: 64.4363 - mae: 6.1994\n",
      "Epoch 32/80\n",
      "26/26 [==============================] - 0s 7ms/step - loss: 59.1075 - mae: 5.6916\n",
      "Epoch 33/80\n",
      "26/26 [==============================] - 0s 11ms/step - loss: 59.5037 - mae: 5.9029\n",
      "Epoch 34/80\n",
      "26/26 [==============================] - 0s 7ms/step - loss: 72.3075 - mae: 6.1984\n",
      "Epoch 35/80\n",
      "26/26 [==============================] - 0s 8ms/step - loss: 59.6659 - mae: 5.7822\n",
      "Epoch 36/80\n",
      "26/26 [==============================] - 0s 8ms/step - loss: 58.9554 - mae: 5.8560\n",
      "Epoch 37/80\n",
      "26/26 [==============================] - 0s 9ms/step - loss: 61.2047 - mae: 5.8940\n",
      "Epoch 38/80\n",
      "26/26 [==============================] - 0s 7ms/step - loss: 60.0561 - mae: 5.6581\n",
      "Epoch 39/80\n",
      "26/26 [==============================] - 0s 7ms/step - loss: 60.4894 - mae: 5.9653\n",
      "Epoch 40/80\n",
      "26/26 [==============================] - 0s 7ms/step - loss: 54.9049 - mae: 5.4619\n",
      "Epoch 41/80\n",
      "26/26 [==============================] - 0s 7ms/step - loss: 56.7109 - mae: 5.8576\n",
      "Epoch 42/80\n",
      "26/26 [==============================] - 0s 7ms/step - loss: 64.9343 - mae: 6.2446\n",
      "Epoch 43/80\n",
      "26/26 [==============================] - 0s 7ms/step - loss: 54.8547 - mae: 5.7076\n",
      "Epoch 44/80\n",
      "26/26 [==============================] - 0s 7ms/step - loss: 50.0629 - mae: 5.4565\n",
      "Epoch 45/80\n",
      "26/26 [==============================] - 0s 11ms/step - loss: 54.0655 - mae: 5.5509\n",
      "Epoch 46/80\n",
      "26/26 [==============================] - 0s 7ms/step - loss: 48.7841 - mae: 5.2659\n",
      "Epoch 47/80\n",
      "26/26 [==============================] - 0s 7ms/step - loss: 60.7903 - mae: 5.9802\n",
      "Epoch 48/80\n",
      "26/26 [==============================] - 0s 7ms/step - loss: 48.3420 - mae: 5.2046\n",
      "Epoch 49/80\n",
      "26/26 [==============================] - 0s 7ms/step - loss: 62.0264 - mae: 5.7882\n",
      "Epoch 50/80\n",
      "26/26 [==============================] - 0s 7ms/step - loss: 43.0370 - mae: 4.8225\n",
      "Epoch 51/80\n",
      "26/26 [==============================] - 0s 7ms/step - loss: 51.0017 - mae: 5.2249\n",
      "Epoch 52/80\n",
      "26/26 [==============================] - 0s 7ms/step - loss: 52.6095 - mae: 5.5026\n",
      "Epoch 53/80\n",
      "26/26 [==============================] - 0s 7ms/step - loss: 42.3572 - mae: 4.9756\n",
      "Epoch 54/80\n",
      "26/26 [==============================] - 0s 7ms/step - loss: 47.2445 - mae: 5.1287\n",
      "Epoch 55/80\n",
      "26/26 [==============================] - 0s 9ms/step - loss: 51.9689 - mae: 5.5344\n",
      "Epoch 56/80\n",
      "26/26 [==============================] - 0s 8ms/step - loss: 44.6106 - mae: 5.0275\n",
      "Epoch 57/80\n",
      "26/26 [==============================] - 0s 9ms/step - loss: 49.8264 - mae: 5.3763\n",
      "Epoch 58/80\n",
      "26/26 [==============================] - 0s 7ms/step - loss: 45.2106 - mae: 5.0837\n",
      "Epoch 59/80\n",
      "26/26 [==============================] - 0s 7ms/step - loss: 43.1413 - mae: 5.0929\n",
      "Epoch 60/80\n",
      "26/26 [==============================] - 0s 7ms/step - loss: 42.9769 - mae: 4.8265\n",
      "Epoch 61/80\n",
      "26/26 [==============================] - 0s 8ms/step - loss: 49.1504 - mae: 5.1506\n",
      "Epoch 62/80\n",
      "26/26 [==============================] - 0s 7ms/step - loss: 44.6281 - mae: 5.1948\n",
      "Epoch 63/80\n",
      "26/26 [==============================] - 0s 7ms/step - loss: 41.5853 - mae: 4.8743\n",
      "Epoch 64/80\n",
      "26/26 [==============================] - 0s 12ms/step - loss: 47.7518 - mae: 5.0762\n",
      "Epoch 65/80\n",
      "26/26 [==============================] - 0s 7ms/step - loss: 41.1850 - mae: 4.9280\n",
      "Epoch 66/80\n",
      "26/26 [==============================] - 0s 7ms/step - loss: 43.8721 - mae: 4.8755\n",
      "Epoch 67/80\n",
      "26/26 [==============================] - 0s 7ms/step - loss: 47.2267 - mae: 5.1833\n",
      "Epoch 68/80\n",
      "26/26 [==============================] - 0s 7ms/step - loss: 42.6577 - mae: 4.7380\n",
      "Epoch 69/80\n",
      "26/26 [==============================] - 0s 7ms/step - loss: 39.6385 - mae: 4.6845\n",
      "Epoch 70/80\n",
      "26/26 [==============================] - 0s 7ms/step - loss: 43.8391 - mae: 5.1216\n",
      "Epoch 71/80\n",
      "26/26 [==============================] - 0s 7ms/step - loss: 44.7546 - mae: 5.0114\n",
      "Epoch 72/80\n",
      "26/26 [==============================] - 0s 7ms/step - loss: 38.4659 - mae: 4.5105\n",
      "Epoch 73/80\n",
      "26/26 [==============================] - 0s 8ms/step - loss: 41.9502 - mae: 4.8535\n",
      "Epoch 74/80\n",
      "26/26 [==============================] - 0s 7ms/step - loss: 36.2719 - mae: 4.4098\n",
      "Epoch 75/80\n",
      "26/26 [==============================] - 0s 12ms/step - loss: 45.2744 - mae: 5.0445\n",
      "Epoch 76/80\n",
      "26/26 [==============================] - 0s 7ms/step - loss: 40.5624 - mae: 4.8665\n",
      "Epoch 77/80\n",
      "26/26 [==============================] - 0s 7ms/step - loss: 38.0163 - mae: 4.5673\n",
      "Epoch 78/80\n",
      "26/26 [==============================] - 0s 7ms/step - loss: 47.7661 - mae: 5.1369\n",
      "Epoch 79/80\n",
      "26/26 [==============================] - 0s 7ms/step - loss: 33.9458 - mae: 4.4958\n",
      "Epoch 80/80\n",
      "26/26 [==============================] - 0s 7ms/step - loss: 39.0964 - mae: 4.7314\n"
     ]
    },
    {
     "data": {
      "text/plain": [
       "<keras.callbacks.History at 0x166b0faff40>"
      ]
     },
     "execution_count": 89,
     "metadata": {},
     "output_type": "execute_result"
    }
   ],
   "source": [
    "model = build()\n",
    "model.fit(X_train,y_train,\n",
    "          epochs=80,\n",
    "          batch_size=16,\n",
    "          )\n",
    " "
   ]
  }
 ],
 "metadata": {
  "kernelspec": {
   "display_name": "Python 3",
   "language": "python",
   "name": "python3"
  },
  "language_info": {
   "codemirror_mode": {
    "name": "ipython",
    "version": 3
   },
   "file_extension": ".py",
   "mimetype": "text/x-python",
   "name": "python",
   "nbconvert_exporter": "python",
   "pygments_lexer": "ipython3",
   "version": "3.10.0"
  },
  "orig_nbformat": 4
 },
 "nbformat": 4,
 "nbformat_minor": 2
}
